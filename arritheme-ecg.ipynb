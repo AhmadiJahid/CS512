{
 "cells": [
  {
   "cell_type": "code",
   "execution_count": 1,
   "id": "13ded9b7-687e-4f2f-9de2-a7f7a810e87e",
   "metadata": {
    "collapsed": true,
    "jupyter": {
     "outputs_hidden": true
    },
    "tags": []
   },
   "outputs": [],
   "source": [
    "import wfdb\n",
    "import numpy as np\n",
    "import matplotlib.pyplot as plt\n",
    "import pandas as pd\n",
    "from scipy.signal import butter, filtfilt\n",
    "import neurokit2 as nk"
   ]
  },
  {
   "cell_type": "code",
   "execution_count": null,
   "id": "755389de-9f38-4175-8ba0-d953cc75f969",
   "metadata": {
    "collapsed": true,
    "jupyter": {
     "outputs_hidden": true,
     "source_hidden": true
    },
    "tags": []
   },
   "outputs": [],
   "source": [
    "# the ecg records \n",
    "record_names = ['100','101','102','103','104','105','106','107',\n",
    "           '108','109','111','112','113','114','115','116',\n",
    "           '117','118','119','121','122','123','124','200',\n",
    "           '201','202','203','205','207','208','209','210'] \n",
    "sampling_rate = 360  # Hz\n",
    "cutoff = 0.5  # 0.5 Hz cutoff to remove baseline wander\n",
    "ecg_signals = []  # List to store ECG signals\n",
    "filtered_signals = []\n",
    "# Load the records and store the signals\n",
    "for record_name in record_names:\n",
    "    record = wfdb.rdrecord(record_name, pn_dir='mitdb')\n",
    "    ecg_signals.append(record.p_signal[:, 0])  # Store only the first lead signal\n",
    "\n",
    "# Function to create a Butterworth high-pass filter\n",
    "def butter_highpass(cutoff, sampling_rate, order=5):\n",
    "    nyquist = 0.5 * sampling_rate\n",
    "    normal_cutoff = cutoff / nyquist\n",
    "    b, a = butter(order, normal_cutoff, btype='high', analog=False)\n",
    "    return b, a\n",
    "\n",
    "# Apply the high-pass filter\n",
    "def highpass_filter(data, cutoff, sampling_rate, order=5):\n",
    "    b, a = butter_highpass(cutoff, sampling_rate, order=order)\n",
    "    y = filtfilt(b, a, data)\n",
    "    return y\n",
    "\n",
    "# Apply the filter to each ECG signal and plot the result for one signal\n",
    "for idx, ecg_signal in enumerate(ecg_signals):\n",
    "    filtered_signal = highpass_filter(ecg_signal, cutoff, sampling_rate)\n",
    "    filtered_signals.append(filtered_signal)  # Save the filtered signal\n",
    "# Plot the filtered ECG signal\n",
    "plt.figure(figsize=(10, 4))\n",
    "plt.plot(filtered_signals[3], label=f'Filtered ECG Signal {record_names[7]}')\n",
    "plt.xlabel('Sample')\n",
    "plt.ylabel('Amplitude')\n",
    "plt.title(f'Filtered ECG Signal from Record {record_names[7]}')\n",
    "plt.legend()\n",
    "plt.show()\n"
   ]
  },
  {
   "cell_type": "code",
   "execution_count": null,
   "id": "d31a68c4-c862-41bc-83a9-f031245f67e8",
   "metadata": {
    "tags": []
   },
   "outputs": [],
   "source": [
    "signal_duration = len(filtered_signal)/sampling_rate  # seconds\n",
    "# Window parameters (0.5 seconds window, 0.25 seconds step size)\n",
    "window_size_seconds = 0.5\n",
    "step_size_seconds = 0.25\n",
    "\n",
    "# Convert to number of samples\n",
    "window_size = int(window_size_seconds * sampling_rate)  # 180 samples\n",
    "step_size = int(step_size_seconds * sampling_rate)      # 90 samples\n",
    "\n",
    "# Feature extraction function\n",
    "def extract_features(window):\n",
    "    features = {}\n",
    "    features['mean'] = np.mean(window)\n",
    "    features['max'] = np.max(window)\n",
    "    features['min'] = np.min(window)\n",
    "    features['std'] = np.std(window)\n",
    "    features['energy'] = np.sum(np.square(window))\n",
    "    features['amplitude_range'] = np.max(window) - np.min(window)\n",
    "    first_derivative = np.gradient(window)\n",
    "    second_derivative = np.gradient(first_derivative)\n",
    "    features['mean_first_derivative'] = np.mean(first_derivative)\n",
    "    features['mean_second_derivative'] = np.mean(second_derivative)\n",
    "    \n",
    "    return features\n",
    "\n",
    "# Function to split an ECG signal into windows and extract features for each window\n",
    "def process_ecg_signal(filtered_signal):\n",
    "    n_samples = len(filtered_signal)\n",
    "    \n",
    "    # Detect R-peaks using NeuroKit2\n",
    "    _, r_peak_info = nk.ecg_peaks(filtered_signal, sampling_rate=sampling_rate)\n",
    "    r_peak_indices = r_peak_info['ECG_R_Peaks']\n",
    "    \n",
    "    # List to store rows (each window's features)\n",
    "    rows = []\n",
    "    windows = []  # Store each window separately for later processing\n",
    "    labels = []  # List to store the labels for R-peak detection\n",
    "    # Slide over the ECG signal using the window and step size\n",
    "    for start in range(0, n_samples - window_size + 1, step_size):\n",
    "        end = start + window_size\n",
    "        window = filtered_signal[start:end]\n",
    "        \n",
    "        windows.append(window)  # Store the window\n",
    "         # Check if any R-peak index falls within this window\n",
    "        r_peaks_in_window = [peak for peak in r_peak_indices if start <= peak < end]\n",
    "        \n",
    "         # Label the window as 1 if it contains an R-peak, otherwise 0\n",
    "        if len(r_peaks_in_window) > 0:\n",
    "            label = 1  # R-peak detected\n",
    "        else:\n",
    "            label = 0  # No R-peak detected\n",
    "        \n",
    "        # Append the label to the list\n",
    "        labels.append(label)\n",
    "        \n",
    "        # Extract features for this window\n",
    "        features = extract_features(window)\n",
    "        \n",
    "        # Append the features to the rows list\n",
    "        rows.append(features)\n",
    "    \n",
    "    # Convert the list of rows to a DataFrame\n",
    "    df = pd.DataFrame(rows)\n",
    "    df['R_peak_label'] = labels  # Add the labels to the DataFrame\n",
    "    return df, windows, labels\n",
    "# Function to process multiple ECG signals\n",
    "def process_multiple_ecg_signals(filtered_signals):\n",
    "    all_features = []\n",
    "    all_windows = []\n",
    "    all_labels = []\n",
    "    \n",
    "    for i, filtered_signal in enumerate(filtered_signals):\n",
    "        \n",
    "        ecg_df, ecg_windows, ecg_labels = process_ecg_signal(filtered_signal)\n",
    "        \n",
    "        # Add a column to identify the signal number ( for tracking)\n",
    "        ecg_df['signal_id'] = i\n",
    "        \n",
    "        # Append the results\n",
    "        all_features.append(ecg_df)\n",
    "        all_windows.append(ecg_windows)\n",
    "        all_labels.append(ecg_labels)\n",
    "    \n",
    "    # Concatenate all the features into a single DataFrame\n",
    "    combined_features_df = pd.concat(all_features, ignore_index=True)\n",
    "    \n",
    "    return combined_features_df, all_windows, all_labels\n",
    "\n",
    "\n",
    "combined_df, all_windows, all_labels = process_multiple_ecg_signals(filtered_signals)\n"
   ]
  },
  {
   "cell_type": "code",
   "execution_count": null,
   "id": "6fc24bfa-af0c-4b97-b6a7-10a7bdf8ee2c",
   "metadata": {
    "tags": []
   },
   "outputs": [
    {
     "name": "stdout",
     "output_type": "stream",
     "text": [
      "salam\n"
     ]
    }
   ],
   "source": [
    "print(\"salam\")\n",
    "print(\"salam\")"
   ]
  },
  {
   "cell_type": "code",
   "execution_count": null,
   "id": "705ebc41-61f8-4ca9-b165-6b4c60a8ad2f",
   "metadata": {},
   "outputs": [],
   "source": []
  }
 ],
 "metadata": {
  "kernelspec": {
   "display_name": "base",
   "language": "python",
   "name": "python3"
  },
  "language_info": {
   "codemirror_mode": {
    "name": "ipython",
    "version": 3
   },
   "file_extension": ".py",
   "mimetype": "text/x-python",
   "name": "python",
   "nbconvert_exporter": "python",
   "pygments_lexer": "ipython3",
   "version": "3.11.5"
  }
 },
 "nbformat": 4,
 "nbformat_minor": 5
}
